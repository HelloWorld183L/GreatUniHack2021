{
 "cells": [
  {
   "cell_type": "code",
   "execution_count": 1,
   "id": "71c4b45d",
   "metadata": {},
   "outputs": [
    {
     "name": "stdout",
     "output_type": "stream",
     "text": [
      "['.DS_Store', 'measurements.csv']\n"
     ]
    }
   ],
   "source": [
    "import numpy as np # linear algebra\n",
    "import pandas as pd # data processing, CSV file I/O (e.g. pd.read_csv)\n",
    "import matplotlib.pyplot as plt\n",
    "\n",
    "from gc import collect\n",
    "\n",
    "import warnings\n",
    "warnings.filterwarnings('ignore')\n",
    "\n",
    "import os\n",
    "print(os.listdir(\"../Data\"))"
   ]
  },
  {
   "cell_type": "code",
   "execution_count": 2,
   "id": "9b7733bb",
   "metadata": {},
   "outputs": [
    {
     "data": {
      "text/plain": [
       "0"
      ]
     },
     "execution_count": 2,
     "metadata": {},
     "output_type": "execute_result"
    }
   ],
   "source": [
    "# Filtering and cleaning rows as we go and using only Captured Time, Latitude, Longitude, Value, and Unit cols\n",
    "chunksize = 10 ** 6\n",
    "chunk_list = []\n",
    "for chunk in pd.read_csv('../Data/measurements.csv', usecols=[0, 1, 2, 3, 4, 8], chunksize=chunksize):\n",
    "    chunk = chunk[chunk['Unit'] == 'cpm']\n",
    "    chunk.value = chunk.Value/350\n",
    "    chunk = chunk[chunk.Value > 0]\n",
    "    chunk['year'] = pd.to_datetime(chunk['Captured Time'],  errors = 'coerce').dt.to_period('Y')\n",
    "    chunk.dropna(axis=0, how='any', inplace=True)\n",
    "    chunk['year'] = chunk['year'].astype('str').astype('int')\n",
    "    chunk = chunk[chunk['year'] <= 2020]\n",
    "    chunk = chunk.sample(n=12000)\n",
    "    chunk_list.append(chunk)\n",
    "    collect()\n",
    "    if chunk.index[0] > 20000000:\n",
    "        break\n",
    "df = pd.concat(chunk_list)\n",
    "\n",
    "del(chunk_list)\n",
    "collect()"
   ]
  },
  {
   "cell_type": "code",
   "execution_count": 3,
   "id": "bdfd830f",
   "metadata": {},
   "outputs": [
    {
     "name": "stdout",
     "output_type": "stream",
     "text": [
      "Number of measurements:  252000\n"
     ]
    }
   ],
   "source": [
    "# Number of measurements\n",
    "print('Number of measurements: ', df.shape[0])"
   ]
  },
  {
   "cell_type": "code",
   "execution_count": 4,
   "id": "305e44b1",
   "metadata": {},
   "outputs": [],
   "source": [
    "df = df.drop(columns=['Unit'])\n",
    "# Renaming columns\n",
    "df.columns = ['time', 'lat', 'lon', 'value', 'height', 'year']\n"
   ]
  },
  {
   "cell_type": "code",
   "execution_count": 5,
   "id": "f1c2af04",
   "metadata": {},
   "outputs": [
    {
     "data": {
      "text/html": [
       "<div>\n",
       "<style scoped>\n",
       "    .dataframe tbody tr th:only-of-type {\n",
       "        vertical-align: middle;\n",
       "    }\n",
       "\n",
       "    .dataframe tbody tr th {\n",
       "        vertical-align: top;\n",
       "    }\n",
       "\n",
       "    .dataframe thead th {\n",
       "        text-align: right;\n",
       "    }\n",
       "</style>\n",
       "<table border=\"1\" class=\"dataframe\">\n",
       "  <thead>\n",
       "    <tr style=\"text-align: right;\">\n",
       "      <th></th>\n",
       "      <th>time</th>\n",
       "      <th>lat</th>\n",
       "      <th>lon</th>\n",
       "      <th>value</th>\n",
       "      <th>height</th>\n",
       "      <th>year</th>\n",
       "    </tr>\n",
       "  </thead>\n",
       "  <tbody>\n",
       "    <tr>\n",
       "      <th>639910</th>\n",
       "      <td>2017-11-25 21:55:10</td>\n",
       "      <td>38.403620</td>\n",
       "      <td>-122.818470</td>\n",
       "      <td>38.0</td>\n",
       "      <td>65.0</td>\n",
       "      <td>2017</td>\n",
       "    </tr>\n",
       "    <tr>\n",
       "      <th>562963</th>\n",
       "      <td>2017-11-26 18:20:54</td>\n",
       "      <td>35.659491</td>\n",
       "      <td>139.727850</td>\n",
       "      <td>26.0</td>\n",
       "      <td>92.0</td>\n",
       "      <td>2017</td>\n",
       "    </tr>\n",
       "    <tr>\n",
       "      <th>242151</th>\n",
       "      <td>2017-12-03 00:28:16</td>\n",
       "      <td>37.644440</td>\n",
       "      <td>140.797711</td>\n",
       "      <td>116.0</td>\n",
       "      <td>426.0</td>\n",
       "      <td>2017</td>\n",
       "    </tr>\n",
       "    <tr>\n",
       "      <th>672283</th>\n",
       "      <td>2017-11-25 03:20:28</td>\n",
       "      <td>37.796306</td>\n",
       "      <td>140.514413</td>\n",
       "      <td>63.0</td>\n",
       "      <td>65.0</td>\n",
       "      <td>2017</td>\n",
       "    </tr>\n",
       "    <tr>\n",
       "      <th>909970</th>\n",
       "      <td>2017-11-19 16:02:00</td>\n",
       "      <td>37.644440</td>\n",
       "      <td>140.797711</td>\n",
       "      <td>43.0</td>\n",
       "      <td>426.0</td>\n",
       "      <td>2017</td>\n",
       "    </tr>\n",
       "  </tbody>\n",
       "</table>\n",
       "</div>"
      ],
      "text/plain": [
       "                       time        lat         lon  value  height  year\n",
       "639910  2017-11-25 21:55:10  38.403620 -122.818470   38.0    65.0  2017\n",
       "562963  2017-11-26 18:20:54  35.659491  139.727850   26.0    92.0  2017\n",
       "242151  2017-12-03 00:28:16  37.644440  140.797711  116.0   426.0  2017\n",
       "672283  2017-11-25 03:20:28  37.796306  140.514413   63.0    65.0  2017\n",
       "909970  2017-11-19 16:02:00  37.644440  140.797711   43.0   426.0  2017"
      ]
     },
     "execution_count": 5,
     "metadata": {},
     "output_type": "execute_result"
    }
   ],
   "source": [
    "df.head()"
   ]
  },
  {
   "cell_type": "code",
   "execution_count": 6,
   "id": "a42868cd",
   "metadata": {},
   "outputs": [],
   "source": [
    "X = df.iloc[:, [1, 2]].values  # lat, lon, height and year\n",
    "Y = df.iloc[:, [3]].values  # value"
   ]
  },
  {
   "cell_type": "code",
   "execution_count": 7,
   "id": "331d5725",
   "metadata": {},
   "outputs": [],
   "source": [
    "from sklearn.model_selection import train_test_split"
   ]
  },
  {
   "cell_type": "code",
   "execution_count": 8,
   "id": "6c8114cc",
   "metadata": {},
   "outputs": [],
   "source": [
    "X_train, X_test, Y_train, Y_test = train_test_split(X, Y, test_size = 0.2, random_state = 0)"
   ]
  },
  {
   "cell_type": "code",
   "execution_count": 9,
   "id": "ac93d967",
   "metadata": {},
   "outputs": [],
   "source": [
    "from sklearn.preprocessing import StandardScaler\n",
    "sc = StandardScaler()\n",
    "X_train = sc.fit_transform(X_train)\n",
    "X_test = sc.transform(X_test)"
   ]
  },
  {
   "cell_type": "code",
   "execution_count": 23,
   "id": "bdb997cb",
   "metadata": {},
   "outputs": [],
   "source": [
    "from sklearn.ensemble import RandomForestRegressor\n",
    "\n",
    "regressor = RandomForestRegressor(max_features=1,\n",
    "                                  n_estimators=180, \n",
    "                                  random_state=20,\n",
    "                                 )\n",
    "regressor.fit(X_train, Y_train)\n",
    "y_pred = regressor.predict(X_test)"
   ]
  },
  {
   "cell_type": "code",
   "execution_count": 24,
   "id": "13d2492a",
   "metadata": {},
   "outputs": [],
   "source": [
    "from sklearn import metrics"
   ]
  },
  {
   "cell_type": "code",
   "execution_count": 25,
   "id": "8234ebbe",
   "metadata": {},
   "outputs": [
    {
     "name": "stdout",
     "output_type": "stream",
     "text": [
      "Mean Absolute Error:  15.538676451078095\n",
      "Mean Squared Error:  388.66007964391736\n",
      "Root Mean Squared Error:  19.71446371687339\n"
     ]
    }
   ],
   "source": [
    "print(\"Mean Absolute Error: \", metrics.mean_absolute_error(Y_test, y_pred))\n",
    "print(\"Mean Squared Error: \", metrics.mean_squared_error(Y_test, y_pred))\n",
    "print(\"Root Mean Squared Error: \", np.sqrt(metrics.mean_squared_error(Y_test, y_pred)))"
   ]
  },
  {
   "cell_type": "code",
   "execution_count": 26,
   "id": "b35525d2",
   "metadata": {
    "scrolled": true
   },
   "outputs": [
    {
     "name": "stdout",
     "output_type": "stream",
     "text": [
      "The accuracy:  0.5971864168894585\n"
     ]
    }
   ],
   "source": [
    "print(\"The accuracy: \", metrics.r2_score(Y_test, y_pred))"
   ]
  },
  {
   "cell_type": "code",
   "execution_count": 28,
   "id": "9783dc08",
   "metadata": {},
   "outputs": [],
   "source": [
    "import pickle\n",
    "pkl_filename = \"pickle_model.pkl\""
   ]
  },
  {
   "cell_type": "code",
   "execution_count": 30,
   "id": "6a381d54",
   "metadata": {},
   "outputs": [],
   "source": [
    "# Save the model\n",
    "with open(pkl_filename, 'wb') as file:\n",
    "    pickle.dump(regressor, file)"
   ]
  },
  {
   "cell_type": "code",
   "execution_count": null,
   "id": "e2e2a6a6",
   "metadata": {},
   "outputs": [],
   "source": []
  }
 ],
 "metadata": {
  "kernelspec": {
   "display_name": "Python 3",
   "language": "python",
   "name": "python3"
  },
  "language_info": {
   "codemirror_mode": {
    "name": "ipython",
    "version": 3
   },
   "file_extension": ".py",
   "mimetype": "text/x-python",
   "name": "python",
   "nbconvert_exporter": "python",
   "pygments_lexer": "ipython3",
   "version": "3.8.8"
  }
 },
 "nbformat": 4,
 "nbformat_minor": 5
}
