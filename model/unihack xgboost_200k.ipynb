{
 "cells": [
  {
   "cell_type": "code",
   "execution_count": 1,
   "metadata": {},
   "outputs": [],
   "source": [
    "import numpy as np\n",
    "import pandas as pd"
   ]
  },
  {
   "cell_type": "code",
   "execution_count": 2,
   "metadata": {},
   "outputs": [],
   "source": [
    "df = pd.read_csv ('D:/UniHack/archive/cleaned.csv')"
   ]
  },
  {
   "cell_type": "code",
   "execution_count": 3,
   "metadata": {},
   "outputs": [],
   "source": [
    "#df.head(5)\n",
    "#print (df.columns)\n",
    "# df.drop(columns=['MD5Sum', 'Surface', 'Uploaded Time', 'Loader ID', 'Location Name', 'Radiation', 'Device ID'], inplace=True)\n",
    "# print (df.columns)\n",
    "#df.drop(columns=['Radiation'], inplace=True)\n",
    "#df.head(5)\n",
    "# df = df[df['Unit'].isin(['cpm'])]\n",
    "# df.head(5)\n",
    "#df = df.drop(columns=['Unit'])\n",
    "# df.to_csv('D:/UniHack/archive/cleaned.csv')"
   ]
  },
  {
   "cell_type": "code",
   "execution_count": 4,
   "metadata": {},
   "outputs": [
    {
     "data": {
      "text/html": [
       "<div>\n",
       "<style scoped>\n",
       "    .dataframe tbody tr th:only-of-type {\n",
       "        vertical-align: middle;\n",
       "    }\n",
       "\n",
       "    .dataframe tbody tr th {\n",
       "        vertical-align: top;\n",
       "    }\n",
       "\n",
       "    .dataframe thead th {\n",
       "        text-align: right;\n",
       "    }\n",
       "</style>\n",
       "<table border=\"1\" class=\"dataframe\">\n",
       "  <thead>\n",
       "    <tr style=\"text-align: right;\">\n",
       "      <th></th>\n",
       "      <th>Unnamed: 0</th>\n",
       "      <th>Unnamed: 0.1</th>\n",
       "      <th>Captured Time</th>\n",
       "      <th>Latitude</th>\n",
       "      <th>Longitude</th>\n",
       "      <th>Value</th>\n",
       "    </tr>\n",
       "  </thead>\n",
       "  <tbody>\n",
       "    <tr>\n",
       "      <th>0</th>\n",
       "      <td>0</td>\n",
       "      <td>0</td>\n",
       "      <td>2020-02-03 17:00:00.000</td>\n",
       "      <td>37.507552</td>\n",
       "      <td>139.941170</td>\n",
       "      <td>72.0</td>\n",
       "    </tr>\n",
       "    <tr>\n",
       "      <th>1</th>\n",
       "      <td>1</td>\n",
       "      <td>1</td>\n",
       "      <td>2020-02-03 11:00:00.000</td>\n",
       "      <td>37.505445</td>\n",
       "      <td>0.016667</td>\n",
       "      <td>68.0</td>\n",
       "    </tr>\n",
       "    <tr>\n",
       "      <th>2</th>\n",
       "      <td>2</td>\n",
       "      <td>2</td>\n",
       "      <td>2020-02-03 11:00:00.000</td>\n",
       "      <td>37.507250</td>\n",
       "      <td>139.940000</td>\n",
       "      <td>55.0</td>\n",
       "    </tr>\n",
       "    <tr>\n",
       "      <th>3</th>\n",
       "      <td>3</td>\n",
       "      <td>3</td>\n",
       "      <td>2020-02-01 03:00:00.000</td>\n",
       "      <td>34.066487</td>\n",
       "      <td>-118.895217</td>\n",
       "      <td>50.0</td>\n",
       "    </tr>\n",
       "    <tr>\n",
       "      <th>4</th>\n",
       "      <td>4</td>\n",
       "      <td>4</td>\n",
       "      <td>2020-02-01 01:00:00.000</td>\n",
       "      <td>37.673233</td>\n",
       "      <td>140.066667</td>\n",
       "      <td>48.0</td>\n",
       "    </tr>\n",
       "  </tbody>\n",
       "</table>\n",
       "</div>"
      ],
      "text/plain": [
       "   Unnamed: 0  Unnamed: 0.1            Captured Time   Latitude   Longitude  \\\n",
       "0           0             0  2020-02-03 17:00:00.000  37.507552  139.941170   \n",
       "1           1             1  2020-02-03 11:00:00.000  37.505445    0.016667   \n",
       "2           2             2  2020-02-03 11:00:00.000  37.507250  139.940000   \n",
       "3           3             3  2020-02-01 03:00:00.000  34.066487 -118.895217   \n",
       "4           4             4  2020-02-01 01:00:00.000  37.673233  140.066667   \n",
       "\n",
       "   Value  \n",
       "0   72.0  \n",
       "1   68.0  \n",
       "2   55.0  \n",
       "3   50.0  \n",
       "4   48.0  "
      ]
     },
     "execution_count": 4,
     "metadata": {},
     "output_type": "execute_result"
    }
   ],
   "source": [
    "df.head(5)"
   ]
  },
  {
   "cell_type": "code",
   "execution_count": 5,
   "metadata": {},
   "outputs": [],
   "source": [
    "old_df=df\n",
    "df = df[0:200000]"
   ]
  },
  {
   "cell_type": "code",
   "execution_count": 6,
   "metadata": {},
   "outputs": [
    {
     "name": "stdout",
     "output_type": "stream",
     "text": [
      "Index(['Unnamed: 0', 'Unnamed: 0.1', 'Captured Time', 'Latitude', 'Longitude',\n",
      "       'Value'],\n",
      "      dtype='object')\n"
     ]
    }
   ],
   "source": [
    "print(df.columns)\n",
    "# #df = df.drop(columns=['Height'])\n",
    "df = df.drop(columns=['Unnamed: 0'])\n",
    "# df = df.drop(columns=['Unnamed: 0.1'])\n",
    "# df = df.drop(columns=['Unit'])"
   ]
  },
  {
   "cell_type": "code",
   "execution_count": 7,
   "metadata": {},
   "outputs": [
    {
     "data": {
      "text/html": [
       "<div>\n",
       "<style scoped>\n",
       "    .dataframe tbody tr th:only-of-type {\n",
       "        vertical-align: middle;\n",
       "    }\n",
       "\n",
       "    .dataframe tbody tr th {\n",
       "        vertical-align: top;\n",
       "    }\n",
       "\n",
       "    .dataframe thead th {\n",
       "        text-align: right;\n",
       "    }\n",
       "</style>\n",
       "<table border=\"1\" class=\"dataframe\">\n",
       "  <thead>\n",
       "    <tr style=\"text-align: right;\">\n",
       "      <th></th>\n",
       "      <th>Unnamed: 0.1</th>\n",
       "      <th>Captured Time</th>\n",
       "      <th>Latitude</th>\n",
       "      <th>Longitude</th>\n",
       "      <th>Value</th>\n",
       "    </tr>\n",
       "  </thead>\n",
       "  <tbody>\n",
       "    <tr>\n",
       "      <th>0</th>\n",
       "      <td>0</td>\n",
       "      <td>2020-02-03 17:00:00.000</td>\n",
       "      <td>37.507552</td>\n",
       "      <td>139.941170</td>\n",
       "      <td>72.0</td>\n",
       "    </tr>\n",
       "    <tr>\n",
       "      <th>1</th>\n",
       "      <td>1</td>\n",
       "      <td>2020-02-03 11:00:00.000</td>\n",
       "      <td>37.505445</td>\n",
       "      <td>0.016667</td>\n",
       "      <td>68.0</td>\n",
       "    </tr>\n",
       "    <tr>\n",
       "      <th>2</th>\n",
       "      <td>2</td>\n",
       "      <td>2020-02-03 11:00:00.000</td>\n",
       "      <td>37.507250</td>\n",
       "      <td>139.940000</td>\n",
       "      <td>55.0</td>\n",
       "    </tr>\n",
       "    <tr>\n",
       "      <th>3</th>\n",
       "      <td>3</td>\n",
       "      <td>2020-02-01 03:00:00.000</td>\n",
       "      <td>34.066487</td>\n",
       "      <td>-118.895217</td>\n",
       "      <td>50.0</td>\n",
       "    </tr>\n",
       "    <tr>\n",
       "      <th>4</th>\n",
       "      <td>4</td>\n",
       "      <td>2020-02-01 01:00:00.000</td>\n",
       "      <td>37.673233</td>\n",
       "      <td>140.066667</td>\n",
       "      <td>48.0</td>\n",
       "    </tr>\n",
       "  </tbody>\n",
       "</table>\n",
       "</div>"
      ],
      "text/plain": [
       "   Unnamed: 0.1            Captured Time   Latitude   Longitude  Value\n",
       "0             0  2020-02-03 17:00:00.000  37.507552  139.941170   72.0\n",
       "1             1  2020-02-03 11:00:00.000  37.505445    0.016667   68.0\n",
       "2             2  2020-02-03 11:00:00.000  37.507250  139.940000   55.0\n",
       "3             3  2020-02-01 03:00:00.000  34.066487 -118.895217   50.0\n",
       "4             4  2020-02-01 01:00:00.000  37.673233  140.066667   48.0"
      ]
     },
     "execution_count": 7,
     "metadata": {},
     "output_type": "execute_result"
    }
   ],
   "source": [
    "df.head(5)"
   ]
  },
  {
   "cell_type": "code",
   "execution_count": 8,
   "metadata": {},
   "outputs": [],
   "source": [
    "# old_df.to_csv('D:/UniHack/archive/cleaned.csv')"
   ]
  },
  {
   "cell_type": "code",
   "execution_count": 9,
   "metadata": {},
   "outputs": [],
   "source": [
    "import numpy as np\n",
    "import matplotlib.pyplot as plt\n",
    "import pandas as pd\n",
    "# import torch\n",
    "# import torch.nn as nn\n",
    "# from torch.autograd import Variable\n",
    "from sklearn.preprocessing import MinMaxScaler\n",
    "from sklearn.model_selection import train_test_split"
   ]
  },
  {
   "cell_type": "code",
   "execution_count": 10,
   "metadata": {},
   "outputs": [],
   "source": [
    "import matplotlib.pyplot as plt\n",
    "import numpy as np\n",
    "from sklearn import datasets, ensemble\n",
    "from sklearn.inspection import permutation_importance\n",
    "from sklearn.metrics import mean_squared_error\n",
    "from sklearn.model_selection import train_test_split"
   ]
  },
  {
   "cell_type": "code",
   "execution_count": 11,
   "metadata": {},
   "outputs": [],
   "source": [
    "df.head(5)\n",
    "df['Captured Time'] = pd.to_datetime(df['Captured Time'], errors = 'coerce')\n",
    "df = df[df['Captured Time'].notnull()]"
   ]
  },
  {
   "cell_type": "code",
   "execution_count": 12,
   "metadata": {},
   "outputs": [],
   "source": [
    "from datetime import datetime\n",
    "from time import mktime\n",
    "\n",
    "df['Captured Time'] = df['Captured Time'].apply(lambda x: mktime(x.timetuple()))\n",
    "# df['Captured Time'] = mktime(df['Captured Time'].timetuple())"
   ]
  },
  {
   "cell_type": "code",
   "execution_count": 13,
   "metadata": {},
   "outputs": [],
   "source": [
    "df['Latitude'] = df['Latitude'].astype('float64')\n",
    "df['Longitude'] = df['Longitude'].astype('float64')\n",
    "df['Value'] = df['Value'].astype('float64')"
   ]
  },
  {
   "cell_type": "code",
   "execution_count": 14,
   "metadata": {},
   "outputs": [],
   "source": [
    "# print(df.head(5))\n",
    "# print(df.columns[3])\n",
    "# print(df.dtypes)\n",
    "X = df.iloc[:,:-1].values\n",
    "Y = pd.DataFrame(df.iloc[:,-1]).values"
   ]
  },
  {
   "cell_type": "code",
   "execution_count": 15,
   "metadata": {},
   "outputs": [
    {
     "data": {
      "text/plain": [
       "array([[ 0.00000000e+00,  1.58072940e+09,  3.75075517e+01,\n",
       "         1.39941170e+02],\n",
       "       [ 1.00000000e+00,  1.58070780e+09,  3.75054450e+01,\n",
       "         1.66666667e-02],\n",
       "       [ 2.00000000e+00,  1.58070780e+09,  3.75072500e+01,\n",
       "         1.39940000e+02],\n",
       "       ...,\n",
       "       [ 1.99997000e+05,  1.51131212e+09,  4.55490067e+01,\n",
       "        -1.22558330e+02],\n",
       "       [ 1.99998000e+05,  1.51129904e+09,  4.55489650e+01,\n",
       "        -1.22558268e+02],\n",
       "       [ 1.99999000e+05,  1.51132007e+09,  4.55488983e+01,\n",
       "        -1.22558347e+02]])"
      ]
     },
     "execution_count": 15,
     "metadata": {},
     "output_type": "execute_result"
    }
   ],
   "source": [
    "X"
   ]
  },
  {
   "cell_type": "code",
   "execution_count": 16,
   "metadata": {},
   "outputs": [
    {
     "data": {
      "text/plain": [
       "array([[72.],\n",
       "       [68.],\n",
       "       [55.],\n",
       "       ...,\n",
       "       [25.],\n",
       "       [30.],\n",
       "       [28.]])"
      ]
     },
     "execution_count": 16,
     "metadata": {},
     "output_type": "execute_result"
    }
   ],
   "source": [
    "Y"
   ]
  },
  {
   "cell_type": "code",
   "execution_count": 17,
   "metadata": {},
   "outputs": [],
   "source": [
    "X_train, X_test, y_train, y_test = train_test_split(X, Y, test_size=0.2, random_state=99)"
   ]
  },
  {
   "cell_type": "code",
   "execution_count": 18,
   "metadata": {},
   "outputs": [
    {
     "data": {
      "text/plain": [
       "(200000, 4)"
      ]
     },
     "execution_count": 18,
     "metadata": {},
     "output_type": "execute_result"
    }
   ],
   "source": [
    "np.shape(X)"
   ]
  },
  {
   "cell_type": "code",
   "execution_count": 19,
   "metadata": {},
   "outputs": [
    {
     "data": {
      "text/plain": [
       "(160000, 1)"
      ]
     },
     "execution_count": 19,
     "metadata": {},
     "output_type": "execute_result"
    }
   ],
   "source": [
    "np.shape(y_train)\n",
    "# y_train = y_train"
   ]
  },
  {
   "cell_type": "code",
   "execution_count": 20,
   "metadata": {},
   "outputs": [],
   "source": [
    "params = {\n",
    "    \"n_estimators\": 2000,\n",
    "    \"max_depth\": 4,\n",
    "    \"min_samples_split\": 2,\n",
    "    \"learning_rate\": 0.01,\n",
    "#     \"loss\": \"squared_error\",\n",
    "}"
   ]
  },
  {
   "cell_type": "code",
   "execution_count": 21,
   "metadata": {},
   "outputs": [
    {
     "data": {
      "text/plain": [
       "GradientBoostingRegressor(learning_rate=0.01, max_depth=4, n_estimators=2000)"
      ]
     },
     "execution_count": 21,
     "metadata": {},
     "output_type": "execute_result"
    }
   ],
   "source": [
    "reg = ensemble.GradientBoostingRegressor(**params)\n",
    "\n",
    "# print(X_train.head(5))\n",
    "# print(y_train.head(5))\n",
    "\n",
    "# print(type(X_train))\n",
    "# print(type(y_train))\n",
    "# print(X_train.dtypes)\n",
    "# print(y_train.dtypes)\n",
    "\n",
    "reg.fit(X_train, y_train.ravel())"
   ]
  },
  {
   "cell_type": "code",
   "execution_count": 22,
   "metadata": {},
   "outputs": [
    {
     "name": "stdout",
     "output_type": "stream",
     "text": [
      "The mean squared error (MSE) on test set: 195.7845\n"
     ]
    }
   ],
   "source": [
    "y_pred = reg.predict(X_test)\n",
    "\n",
    "mse = mean_squared_error(y_test, reg.predict(X_test))\n",
    "print(\"The mean squared error (MSE) on test set: {:.4f}\".format(mse))"
   ]
  },
  {
   "cell_type": "code",
   "execution_count": 23,
   "metadata": {},
   "outputs": [
    {
     "name": "stdout",
     "output_type": "stream",
     "text": [
      "Mean Absolute Error:  8.348912809618861\n",
      "Mean Squared Error:  195.78449870851267\n",
      "Root Mean Squared Error:  13.99230140857867\n"
     ]
    }
   ],
   "source": [
    "from sklearn import metrics\n",
    "\n",
    "print(\"Mean Absolute Error: \", metrics.mean_absolute_error(y_test, y_pred))\n",
    "print(\"Mean Squared Error: \", metrics.mean_squared_error(y_test, y_pred))\n",
    "print(\"Root Mean Squared Error: \", np.sqrt(metrics.mean_squared_error(y_test, y_pred)))"
   ]
  },
  {
   "cell_type": "code",
   "execution_count": 24,
   "metadata": {},
   "outputs": [
    {
     "name": "stdout",
     "output_type": "stream",
     "text": [
      "The accuracy:  0.9955734967371207\n"
     ]
    }
   ],
   "source": [
    "print(\"The accuracy: \", metrics.r2_score(y_test, y_pred))"
   ]
  },
  {
   "cell_type": "code",
   "execution_count": 27,
   "metadata": {},
   "outputs": [
    {
     "data": {
      "text/plain": [
       "['D:/UniHack/xgboost_200k.joblib']"
      ]
     },
     "execution_count": 27,
     "metadata": {},
     "output_type": "execute_result"
    }
   ],
   "source": [
    "from joblib import dump, load\n",
    "dump(reg, 'D:/UniHack/xgboost_200k.joblib') "
   ]
  },
  {
   "cell_type": "code",
   "execution_count": 28,
   "metadata": {},
   "outputs": [],
   "source": [
    "import pickle\n",
    "pickle.dump(reg, open('D:/UniHack/xgboost_200k.sav', 'wb'))"
   ]
  },
  {
   "cell_type": "code",
   "execution_count": null,
   "metadata": {},
   "outputs": [],
   "source": []
  }
 ],
 "metadata": {
  "kernelspec": {
   "display_name": "gpu2",
   "language": "python",
   "name": "gpu2"
  },
  "language_info": {
   "codemirror_mode": {
    "name": "ipython",
    "version": 3
   },
   "file_extension": ".py",
   "mimetype": "text/x-python",
   "name": "python",
   "nbconvert_exporter": "python",
   "pygments_lexer": "ipython3",
   "version": "3.6.13"
  }
 },
 "nbformat": 4,
 "nbformat_minor": 4
}
